{
    "cells": [
        {
            "cell_type": "markdown",
            "metadata": {
                "collapsed": true
            },
            "source": "# Captone Projet - The Battle of Neighborhoods"
        },
        {
            "cell_type": "markdown",
            "metadata": {},
            "source": "## 1. Introduction"
        },
        {
            "cell_type": "markdown",
            "metadata": {},
            "source": "Suppose the entire city of York, Canada has water outage for several days and will continue to be outage for 1 months. People needs water for multiple purposes. Now, the government of York decided to transport water from other places and distribute them among the neighborhoods in York. What are the best locations to distribute through out the entire York? How many locations is needed to distribute? In order to accomodate citizens, we would not want the distance between distributor location and neighborhood to be more than 2 km. "
        },
        {
            "cell_type": "markdown",
            "metadata": {},
            "source": "## Data"
        },
        {
            "cell_type": "markdown",
            "metadata": {},
            "source": "The data that we would use is from wikipedia:\nhttps://en.wikipedia.org/wiki/List_of_postal_codes_of_Canada:_M\nIt shows the postal code and borough. Each postal code is considered as a neighborhood.\nThe Longitude and Latitude for each postal code is obtained from:\nhttp://cocl.us/Geospatial_data"
        }
    ],
    "metadata": {
        "kernelspec": {
            "display_name": "Python 3.6",
            "language": "python",
            "name": "python3"
        },
        "language_info": {
            "codemirror_mode": {
                "name": "ipython",
                "version": 3
            },
            "file_extension": ".py",
            "mimetype": "text/x-python",
            "name": "python",
            "nbconvert_exporter": "python",
            "pygments_lexer": "ipython3",
            "version": "3.6.9"
        }
    },
    "nbformat": 4,
    "nbformat_minor": 1
}